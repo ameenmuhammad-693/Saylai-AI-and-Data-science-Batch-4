{
 "cells": [
  {
   "cell_type": "code",
   "execution_count": 27,
   "metadata": {
    "id": "0u__-1l4Qvkc"
   },
   "outputs": [],
   "source": [
    "from keras.datasets import mnist\n",
    "(train_images, train_labels), (test_images, test_labels) = mnist.load_data()"
   ]
  },
  {
   "cell_type": "code",
   "execution_count": 28,
   "metadata": {
    "id": "yzxXd3GHQ1L3"
   },
   "outputs": [],
   "source": [
    "from keras import models\n",
    "from keras import layers\n",
    "network = models.Sequential()\n",
    "network.add(layers.Dense(512, activation='relu', input_shape=(28 * 28,)))\n",
    "network.add(layers.Dense(10, activation='softmax'))"
   ]
  },
  {
   "cell_type": "code",
   "execution_count": 29,
   "metadata": {
    "id": "b4Ntd-fiQ7zV"
   },
   "outputs": [],
   "source": [
    "network.compile(optimizer='rmsprop',\n",
    "loss='categorical_crossentropy',\n",
    "metrics=['accuracy'])"
   ]
  },
  {
   "cell_type": "code",
   "execution_count": 30,
   "metadata": {
    "id": "uD1Wt1LkQ_2n"
   },
   "outputs": [],
   "source": [
    "train_images = train_images.reshape((1, 28 * 28))\n",
    "train_images = train_images.astype('float32') / 255\n",
    "test_images = test_images.reshape((10000, 28 * 28))\n",
    "test_images = test_images.astype('float32') / 255"
   ]
  },
  {
   "cell_type": "code",
   "execution_count": 31,
   "metadata": {
    "id": "x5e3f4r7RC5C"
   },
   "outputs": [],
   "source": [
    "from keras.utils import to_categorical\n",
    "train_labels = to_categorical(train_labels)\n",
    "test_labels = to_categorical(test_labels)"
   ]
  },
  {
   "cell_type": "code",
   "execution_count": 32,
   "metadata": {
    "colab": {
     "base_uri": "https://localhost:8080/"
    },
    "id": "GKqRgXX_RFmp",
    "outputId": "975e67cf-3414-46c6-a7a4-b9ab0e81f934"
   },
   "outputs": [
    {
     "name": "stdout",
     "output_type": "stream",
     "text": [
      "Epoch 1/50\n",
      "469/469 [==============================] - 6s 12ms/step - loss: 0.2649 - accuracy: 0.9235\n",
      "Epoch 2/50\n",
      "469/469 [==============================] - 4s 9ms/step - loss: 0.1094 - accuracy: 0.9679\n",
      "Epoch 3/50\n",
      "469/469 [==============================] - 4s 10ms/step - loss: 0.0715 - accuracy: 0.9786\n",
      "Epoch 4/50\n",
      "469/469 [==============================] - 5s 11ms/step - loss: 0.0514 - accuracy: 0.9850\n",
      "Epoch 5/50\n",
      "469/469 [==============================] - 4s 9ms/step - loss: 0.0390 - accuracy: 0.9884\n",
      "Epoch 6/50\n",
      "469/469 [==============================] - 5s 11ms/step - loss: 0.0296 - accuracy: 0.9910\n",
      "Epoch 7/50\n",
      "469/469 [==============================] - 5s 10ms/step - loss: 0.0224 - accuracy: 0.9935\n",
      "Epoch 8/50\n",
      "469/469 [==============================] - 7s 15ms/step - loss: 0.0177 - accuracy: 0.9951\n",
      "Epoch 9/50\n",
      "469/469 [==============================] - 5s 11ms/step - loss: 0.0126 - accuracy: 0.9967\n",
      "Epoch 10/50\n",
      "469/469 [==============================] - 4s 9ms/step - loss: 0.0098 - accuracy: 0.9977\n",
      "Epoch 11/50\n",
      "469/469 [==============================] - 5s 12ms/step - loss: 0.0073 - accuracy: 0.9985\n",
      "Epoch 12/50\n",
      "469/469 [==============================] - 4s 9ms/step - loss: 0.0051 - accuracy: 0.9990\n",
      "Epoch 13/50\n",
      "469/469 [==============================] - 4s 9ms/step - loss: 0.0037 - accuracy: 0.9993\n",
      "Epoch 14/50\n",
      "469/469 [==============================] - 5s 12ms/step - loss: 0.0023 - accuracy: 0.9997\n",
      "Epoch 15/50\n",
      "469/469 [==============================] - 4s 9ms/step - loss: 0.0016 - accuracy: 0.9998\n",
      "Epoch 16/50\n",
      "469/469 [==============================] - 4s 9ms/step - loss: 0.0011 - accuracy: 0.9999\n",
      "Epoch 17/50\n",
      "469/469 [==============================] - 5s 11ms/step - loss: 6.7316e-04 - accuracy: 1.0000\n",
      "Epoch 18/50\n",
      "469/469 [==============================] - 5s 10ms/step - loss: 4.7810e-04 - accuracy: 1.0000\n",
      "Epoch 19/50\n",
      "469/469 [==============================] - 5s 11ms/step - loss: 4.0089e-04 - accuracy: 1.0000\n",
      "Epoch 20/50\n",
      "469/469 [==============================] - 5s 10ms/step - loss: 3.2845e-04 - accuracy: 1.0000\n",
      "Epoch 21/50\n",
      "469/469 [==============================] - 4s 9ms/step - loss: 2.9785e-04 - accuracy: 1.0000\n",
      "Epoch 22/50\n",
      "469/469 [==============================] - 5s 11ms/step - loss: 2.5615e-04 - accuracy: 1.0000\n",
      "Epoch 23/50\n",
      "469/469 [==============================] - 4s 9ms/step - loss: 2.3816e-04 - accuracy: 1.0000\n",
      "Epoch 24/50\n",
      "469/469 [==============================] - 4s 9ms/step - loss: 2.1789e-04 - accuracy: 1.0000\n",
      "Epoch 25/50\n",
      "469/469 [==============================] - 5s 12ms/step - loss: 2.0163e-04 - accuracy: 1.0000\n",
      "Epoch 26/50\n",
      "469/469 [==============================] - 5s 11ms/step - loss: 1.8682e-04 - accuracy: 1.0000\n",
      "Epoch 27/50\n",
      "469/469 [==============================] - 5s 11ms/step - loss: 1.7428e-04 - accuracy: 1.0000\n",
      "Epoch 28/50\n",
      "469/469 [==============================] - 4s 9ms/step - loss: 1.6433e-04 - accuracy: 1.0000\n",
      "Epoch 29/50\n",
      "469/469 [==============================] - 4s 9ms/step - loss: 1.5549e-04 - accuracy: 1.0000\n",
      "Epoch 30/50\n",
      "469/469 [==============================] - 5s 12ms/step - loss: 1.4742e-04 - accuracy: 1.0000\n",
      "Epoch 31/50\n",
      "469/469 [==============================] - 4s 9ms/step - loss: 1.3960e-04 - accuracy: 1.0000\n",
      "Epoch 32/50\n",
      "469/469 [==============================] - 5s 10ms/step - loss: 1.3350e-04 - accuracy: 1.0000\n",
      "Epoch 33/50\n",
      "469/469 [==============================] - 5s 11ms/step - loss: 1.2636e-04 - accuracy: 1.0000\n",
      "Epoch 34/50\n",
      "469/469 [==============================] - 4s 9ms/step - loss: 1.2202e-04 - accuracy: 1.0000\n",
      "Epoch 35/50\n",
      "469/469 [==============================] - 5s 12ms/step - loss: 1.1671e-04 - accuracy: 1.0000\n",
      "Epoch 36/50\n",
      "469/469 [==============================] - 5s 10ms/step - loss: 1.1157e-04 - accuracy: 1.0000\n",
      "Epoch 37/50\n",
      "469/469 [==============================] - 4s 9ms/step - loss: 1.0715e-04 - accuracy: 1.0000\n",
      "Epoch 38/50\n",
      "469/469 [==============================] - 5s 12ms/step - loss: 1.0334e-04 - accuracy: 1.0000\n",
      "Epoch 39/50\n",
      "469/469 [==============================] - 4s 9ms/step - loss: 9.9586e-05 - accuracy: 1.0000\n",
      "Epoch 40/50\n",
      "469/469 [==============================] - 4s 9ms/step - loss: 9.6003e-05 - accuracy: 1.0000\n",
      "Epoch 41/50\n",
      "469/469 [==============================] - 5s 12ms/step - loss: 9.2810e-05 - accuracy: 1.0000\n",
      "Epoch 42/50\n",
      "469/469 [==============================] - 4s 9ms/step - loss: 8.9817e-05 - accuracy: 1.0000\n",
      "Epoch 43/50\n",
      "469/469 [==============================] - 5s 10ms/step - loss: 8.6800e-05 - accuracy: 1.0000\n",
      "Epoch 44/50\n",
      "469/469 [==============================] - 5s 10ms/step - loss: 8.4365e-05 - accuracy: 1.0000\n",
      "Epoch 45/50\n",
      "469/469 [==============================] - 4s 8ms/step - loss: 8.1546e-05 - accuracy: 1.0000\n",
      "Epoch 46/50\n",
      "469/469 [==============================] - 5s 10ms/step - loss: 7.9709e-05 - accuracy: 1.0000\n",
      "Epoch 47/50\n",
      "469/469 [==============================] - 4s 9ms/step - loss: 7.7259e-05 - accuracy: 1.0000\n",
      "Epoch 48/50\n",
      "469/469 [==============================] - 4s 8ms/step - loss: 7.5140e-05 - accuracy: 1.0000\n",
      "Epoch 49/50\n",
      "469/469 [==============================] - 5s 10ms/step - loss: 7.3034e-05 - accuracy: 1.0000\n",
      "Epoch 50/50\n",
      "469/469 [==============================] - 4s 9ms/step - loss: 7.1132e-05 - accuracy: 1.0000\n"
     ]
    },
    {
     "data": {
      "text/plain": [
       "<keras.callbacks.History at 0x7fd1cf686b60>"
      ]
     },
     "execution_count": 32,
     "metadata": {},
     "output_type": "execute_result"
    }
   ],
   "source": [
    "network.fit(train_images, train_labels, epochs=50, batch_size=128)"
   ]
  },
  {
   "cell_type": "code",
   "execution_count": 33,
   "metadata": {
    "colab": {
     "base_uri": "https://localhost:8080/"
    },
    "id": "NiFYoHIGRIY5",
    "outputId": "db00fe37-297e-4554-cae7-eb2a73fe0265"
   },
   "outputs": [
    {
     "name": "stdout",
     "output_type": "stream",
     "text": [
      "313/313 [==============================] - 1s 3ms/step - loss: 0.0743 - accuracy: 0.9841\n"
     ]
    }
   ],
   "source": [
    "test_loss, test_acc = network.evaluate(test_images, test_labels)"
   ]
  },
  {
   "cell_type": "code",
   "execution_count": 55,
   "metadata": {
    "colab": {
     "base_uri": "https://localhost:8080/"
    },
    "id": "bk7Sv9zoYHyg",
    "outputId": "6475d5b7-c1a3-4b94-c98d-ca52adbe101a"
   },
   "outputs": [
    {
     "name": "stdout",
     "output_type": "stream",
     "text": [
      "1/1 [==============================] - 0s 49ms/step\n"
     ]
    },
    {
     "data": {
      "text/plain": [
       "7"
      ]
     },
     "execution_count": 55,
     "metadata": {},
     "output_type": "execute_result"
    }
   ],
   "source": [
    "\n",
    "\n",
    "image = test_images[0].reshape(1,784)\n",
    "probabilities = network.predict(image)\n",
    "probabilities.argmax()"
   ]
  },
  {
   "cell_type": "code",
   "execution_count": 41,
   "metadata": {
    "colab": {
     "base_uri": "https://localhost:8080/"
    },
    "id": "o-N8Ca_eZFoT",
    "outputId": "3c8e94fc-6922-4d12-d777-e347e1f7531c"
   },
   "outputs": [
    {
     "data": {
      "text/plain": [
       "array([0., 0., 0., 0., 0., 0., 0., 1., 0., 0.], dtype=float32)"
      ]
     },
     "execution_count": 41,
     "metadata": {},
     "output_type": "execute_result"
    }
   ],
   "source": [
    "test_labels[0]"
   ]
  },
  {
   "cell_type": "code",
   "execution_count": 59,
   "metadata": {
    "colab": {
     "base_uri": "https://localhost:8080/"
    },
    "id": "Ke6zrKG9RPUA",
    "outputId": "a6e3229a-8e55-46b8-fd4d-a7766f1b4d4a"
   },
   "outputs": [
    {
     "name": "stdout",
     "output_type": "stream",
     "text": [
      "1/1 [==============================] - 0s 23ms/step\n"
     ]
    }
   ],
   "source": [
    "import keras\n",
    "import numpy as np\n",
    "image = keras.utils.load_img('five.png',grayscale=True)\n",
    "\n",
    "input_arr = keras.utils.img_to_array(image)\n",
    "\n",
    "input_arr = input_arr.reshape(1,784)\n",
    "predictions = network.predict(input_arr)"
   ]
  },
  {
   "cell_type": "code",
   "execution_count": 60,
   "metadata": {
    "colab": {
     "base_uri": "https://localhost:8080/"
    },
    "id": "W1-kwbn_X5Bq",
    "outputId": "8c0d10e9-3174-4007-f4d2-9d68c1e3a394"
   },
   "outputs": [
    {
     "data": {
      "text/plain": [
       "array([[0., 0., 0., 0., 0., 0., 0., 0., 1., 0.]], dtype=float32)"
      ]
     },
     "execution_count": 60,
     "metadata": {},
     "output_type": "execute_result"
    }
   ],
   "source": [
    "predictions"
   ]
  },
  {
   "cell_type": "code",
   "execution_count": 53,
   "metadata": {
    "colab": {
     "base_uri": "https://localhost:8080/"
    },
    "id": "cVXvMr2Say7q",
    "outputId": "10fa1098-e988-402b-e19c-8f2c2d9b87ca"
   },
   "outputs": [
    {
     "data": {
      "text/plain": [
       "(1, 784)"
      ]
     },
     "execution_count": 53,
     "metadata": {},
     "output_type": "execute_result"
    }
   ],
   "source": [
    "test_images[8].reshape(1,784).shape\n"
   ]
  },
  {
   "cell_type": "code",
   "execution_count": 69,
   "metadata": {
    "id": "SihqkgVTbFKI"
   },
   "outputs": [],
   "source": [
    "import keras\n",
    "import numpy as np\n",
    "def classify_image(img):\n",
    "\n",
    "  image = keras.utils.load_img(img ,grayscale=True)\n",
    "\n",
    "  input_arr = keras.utils.img_to_array(image)\n",
    "\n",
    "  input_arr = input_arr.reshape(1,784)\n",
    "  predictions = network.predict(input_arr)\n",
    "\n",
    "  return predictions.argmax(), predictions"
   ]
  },
  {
   "cell_type": "code",
   "execution_count": 74,
   "metadata": {
    "colab": {
     "base_uri": "https://localhost:8080/"
    },
    "id": "heKBkGtzd6fn",
    "outputId": "a94137c3-4799-4717-aa84-4d12a133b9b4"
   },
   "outputs": [
    {
     "name": "stdout",
     "output_type": "stream",
     "text": [
      "1/1 [==============================] - 0s 23ms/step\n"
     ]
    },
    {
     "data": {
      "text/plain": [
       "(3, array([[0., 0., 0., 1., 0., 0., 0., 0., 0., 0.]], dtype=float32))"
      ]
     },
     "execution_count": 74,
     "metadata": {},
     "output_type": "execute_result"
    }
   ],
   "source": [
    "classify_image('one.png')"
   ]
  },
  {
   "cell_type": "code",
   "execution_count": null,
   "metadata": {
    "id": "UN5bpNFyeCKJ"
   },
   "outputs": [],
   "source": []
  }
 ],
 "metadata": {
  "colab": {
   "provenance": []
  },
  "kernelspec": {
   "display_name": "Python 3 (ipykernel)",
   "language": "python",
   "name": "python3"
  },
  "language_info": {
   "codemirror_mode": {
    "name": "ipython",
    "version": 3
   },
   "file_extension": ".py",
   "mimetype": "text/x-python",
   "name": "python",
   "nbconvert_exporter": "python",
   "pygments_lexer": "ipython3",
   "version": "3.10.9"
  }
 },
 "nbformat": 4,
 "nbformat_minor": 1
}
