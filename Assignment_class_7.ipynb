{
 "cells": [
  {
   "cell_type": "code",
   "execution_count": 1,
   "id": "d837a0d3",
   "metadata": {},
   "outputs": [
    {
     "name": "stdout",
     "output_type": "stream",
     "text": [
      "Please enter the table you want = 2\n",
      "Please enter the table range you want = 10\n",
      " 2 X 1 = 2\n",
      " 2 X 2 = 4\n",
      " 2 X 3 = 6\n",
      " 2 X 4 = 8\n",
      " 2 X 5 = 10\n",
      " 2 X 6 = 12\n",
      " 2 X 7 = 14\n",
      " 2 X 8 = 16\n",
      " 2 X 9 = 18\n"
     ]
    }
   ],
   "source": [
    "T = int(input(\"Please enter the table you want = \"))\n",
    "R = int(input(\"Please enter the table range you want = \"))\n",
    "for i in range(1,R):\n",
    "    print(f\" {2} X {i} = {2*i}\")"
   ]
  },
  {
   "cell_type": "code",
   "execution_count": 8,
   "id": "b9fd43af",
   "metadata": {},
   "outputs": [
    {
     "name": "stdout",
     "output_type": "stream",
     "text": [
      "Please enter the numbers of tables you want = 5\n",
      "Please enter the numbers of tables you want = 6\n",
      "Please enter the table range you want = 10\n",
      " 5 X  1 =  5              6 X 1  =  5\n",
      " 5 X  2 =  10              6 X 2  =  10\n",
      " 5 X  3 =  15              6 X 3  =  15\n",
      " 5 X  4 =  20              6 X 4  =  20\n",
      " 5 X  5 =  25              6 X 5  =  25\n",
      " 5 X  6 =  30              6 X 6  =  30\n",
      " 5 X  7 =  35              6 X 7  =  35\n",
      " 5 X  8 =  40              6 X 8  =  40\n",
      " 5 X  9 =  45              6 X 9  =  45\n"
     ]
    }
   ],
   "source": [
    "T = int((input(\"Please enter the numbers of tables you want = \")))\n",
    "T2 = int((input(\"Please enter the numbers of tables you want = \")))\n",
    "\n",
    "R = int(input(\"Please enter the table range you want = \"))\n",
    "for i in range(1,R):\n",
    "    print(f\" {T} X  {i} =  {T*i}              {T2} X {i}  =  {T*i}\")\n",
    "    \n",
    "    "
   ]
  },
  {
   "cell_type": "code",
   "execution_count": 11,
   "id": "92aa47f1",
   "metadata": {},
   "outputs": [
    {
     "name": "stdout",
     "output_type": "stream",
     "text": [
      "[{'Name': 'Muhammad Amin', 'Id': 8617, 'User name': 'Qasim', 'Password': 'abc123', 'Phone number': 3352688931, 'email': 'ameenmuhammad693@gmail.com'}, {'Name': 'Muhammad Aalam', 'Id': 8780, 'User name': 'Usman Abbasi', 'Password': 'abc123', 'Phone number': 3352688932, 'email': 'ameenmuhammad694@gmail.com'}, {'Name': 'Muhammad Afan', 'Id': 8630, 'User name': 'Mubashir Alam', 'Password': 'abc123', 'Phone number': 3352688933, 'email': 'ameenmuhammad695@gmail.com'}, {'Name': 'Muhammad Amir', 'Id': 8704, 'User name': 'Malik Riaz', 'Password': 'abc123', 'Phone number': 3352688934, 'email': 'ameenmuhammad696@gmail.com'}]\n"
     ]
    }
   ],
   "source": [
    "data = [{\"Name\":\"Muhammad Amin\",\"Id\":8617, \"User name\":\"Qasim\",\"Password\":\"abc123\",\"Phone number\": 3352688931,\"email\":\"ameenmuhammad693@gmail.com\"},\n",
    "       {\"Name\":\"Muhammad Aalam\",\"Id\":8780, \"User name\":\"Usman Abbasi\",\"Password\":\"abc123\",\"Phone number\": 3352688932,\"email\":\"ameenmuhammad694@gmail.com\"},\n",
    "       {\"Name\":\"Muhammad Afan\",\"Id\":8630, \"User name\":\"Mubashir Alam\",\"Password\":\"abc123\",\"Phone number\": 3352688933,\"email\":\"ameenmuhammad695@gmail.com\"},\n",
    "       {\"Name\":\"Muhammad Amir\",\"Id\":8704, \"User name\":\"Malik Riaz\",\"Password\":\"abc123\",\"Phone number\": 3352688934,\"email\":\"ameenmuhammad696@gmail.com\"}]\n",
    "print(data)"
   ]
  },
  {
   "cell_type": "code",
   "execution_count": 24,
   "id": "2b82a0b9",
   "metadata": {},
   "outputs": [
    {
     "name": "stdout",
     "output_type": "stream",
     "text": [
      "Please enter the user name/ Password/ email or phone number to login =  Qasim\n",
      "Please enter the password for login = abc123\n",
      "{'Name': 'Muhammad Amin', 'Id': '8617', 'User name': 'Qasim', 'Password': 'abc123', 'Phone number': '3352688931', 'email': 'ameenmuhammad693@gmail.com'}\n"
     ]
    }
   ],
   "source": [
    "data = [{\"Name\":\"Muhammad Amin\",\"Id\":\"8617\", \"User name\":\"Qasim\",\"Password\":\"abc123\",\"Phone number\": \"3352688931\",\"email\":\"ameenmuhammad693@gmail.com\"},\n",
    "       {\"Name\":\"Muhammad Aalam\",\"Id\":\"8780\", \"User name\":\"Usman Abbasi\",\"Password\":\"abc123\",\"Phone number\": \"3352688932\",\"email\":\"ameenmuhammad694@gmail.com\"},\n",
    "       {\"Name\":\"Muhammad Afan\",\"Id\":\"8630\", \"User name\":\"Mubashir Alam\",\"Password\":\"abc123\",\"Phone number\": \"3352688933\",\"email\":\"ameenmuhammad695@gmail.com\"},\n",
    "       {\"Name\":\"Muhammad Amir\",\"Id\":\"8704\", \"User name\":\"Malik Riaz\",\"Password\":\"abc123\",\"Phone number\": \"3352688934\",\"email\":\"ameenmuhammad696@gmail.com\"}]\n",
    "\n",
    "\n",
    "user_name = input(\"Please enter the user name/ Password/ email or phone number to login =  \")\n",
    "Password = input(\"Please enter the password for login = \")\n",
    "\n",
    "for d in data:\n",
    "    if d[\"User name\"] == user_name or d[\"email\"] == user_name or d[\"Phone number\"] == user_name and [\"Password\"] == Password:\n",
    "        \n",
    "        print(d)\n",
    "        break\n",
    "    else:\n",
    "        print(\"Invalid login crediantial please try again\")\n",
    "        break"
   ]
  },
  {
   "cell_type": "code",
   "execution_count": null,
   "id": "206d1b90",
   "metadata": {},
   "outputs": [],
   "source": []
  }
 ],
 "metadata": {
  "kernelspec": {
   "display_name": "Python 3 (ipykernel)",
   "language": "python",
   "name": "python3"
  },
  "language_info": {
   "codemirror_mode": {
    "name": "ipython",
    "version": 3
   },
   "file_extension": ".py",
   "mimetype": "text/x-python",
   "name": "python",
   "nbconvert_exporter": "python",
   "pygments_lexer": "ipython3",
   "version": "3.10.9"
  }
 },
 "nbformat": 4,
 "nbformat_minor": 5
}
